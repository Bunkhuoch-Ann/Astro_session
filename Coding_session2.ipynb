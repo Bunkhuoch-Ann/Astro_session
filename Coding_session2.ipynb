{
  "nbformat": 4,
  "nbformat_minor": 0,
  "metadata": {
    "colab": {
      "provenance": [],
      "authorship_tag": "ABX9TyM88uZKwokI0Qd3R/bwWuqf",
      "include_colab_link": true
    },
    "kernelspec": {
      "name": "python3",
      "display_name": "Python 3"
    },
    "language_info": {
      "name": "python"
    }
  },
  "cells": [
    {
      "cell_type": "markdown",
      "metadata": {
        "id": "view-in-github",
        "colab_type": "text"
      },
      "source": [
        "<a href=\"https://colab.research.google.com/github/Bunkhuoch-Ann/Astro_session/blob/main/Coding_session2.ipynb\" target=\"_parent\"><img src=\"https://colab.research.google.com/assets/colab-badge.svg\" alt=\"Open In Colab\"/></a>"
      ]
    },
    {
      "cell_type": "code",
      "execution_count": 38,
      "metadata": {
        "id": "8NqmBRkMQHEO"
      },
      "outputs": [],
      "source": [
        "from astropy.io import fits\n",
        "import matplotlib.pyplot as plt\n",
        "import numpy as np\n",
        "from photutils.detection import DAOStarFinder\n",
        "from astropy.stats import mad_std"
      ]
    },
    {
      "cell_type": "code",
      "source": [
        "# !pip install photutils"
      ],
      "metadata": {
        "id": "gOF84C6WTIwi"
      },
      "execution_count": 40,
      "outputs": []
    },
    {
      "cell_type": "code",
      "source": [
        "from PIL import Image\n",
        "import requests\n",
        "import numpy as np\n",
        "import matplotlib.pyplot as plt\n",
        "\n",
        "# Load the RGB image from the URL\n",
        "url = 'https://stsci-opo.org/STScI-01G8H1NK4W8CJYHF2DDFD1W0DQ.png'\n",
        "img = Image.open(requests.get(url, stream=True).raw).convert(\"RGB\")\n",
        "\n",
        "# Convert to NumPy array\n",
        "rgb = np.array(img)  # shape: (height, width, 3)\n",
        "\n",
        "# Show the image\n",
        "plt.figure(figsize=(8, 8))\n",
        "plt.imshow(rgb, origin='lower')\n",
        "plt.title(\"Hubble Deep Field (RGB)\")\n",
        "plt.axis('off')\n",
        "plt.show()\n"
      ],
      "metadata": {
        "id": "6dP3F9dMqISw"
      },
      "execution_count": null,
      "outputs": []
    },
    {
      "cell_type": "code",
      "source": [
        "from PIL import Image\n",
        "import requests\n",
        "\n",
        "# Load the RGB image from URL or file\n",
        "url = 'https://stsci-opo.org/STScI-01G8H1NK4W8CJYHF2DDFD1W0DQ.png'\n",
        "img = Image.open(requests.get(url, stream=True).raw)\n",
        "\n",
        "# Convert to grayscale\n",
        "gray = img.convert('L')\n",
        "data = np.array(gray)\n",
        "\n",
        "# Show the image\n",
        "plt.figure(figsize=(8, 8))\n",
        "plt.imshow(data, cmap='gray', origin='lower')\n",
        "plt.title(\"Converted Grayscale of Hubble Deep Field\")\n",
        "plt.colorbar()\n",
        "plt.show()"
      ],
      "metadata": {
        "id": "jJXCMxLxUJ5Q"
      },
      "execution_count": null,
      "outputs": []
    },
    {
      "cell_type": "code",
      "source": [
        "from photutils.detection import DAOStarFinder\n",
        "from astropy.stats import sigma_clipped_stats\n",
        "\n",
        "mean, median, std = sigma_clipped_stats(data, sigma=3.0)\n",
        "print(f\"Estimated background: median = {median:.2f}, std = {std:.2f}\")"
      ],
      "metadata": {
        "id": "t0h9GzIRUKWb"
      },
      "execution_count": null,
      "outputs": []
    },
    {
      "cell_type": "code",
      "source": [
        "from photutils.detection import IRAFStarFinder\n",
        "from astropy.stats import sigma_clipped_stats\n",
        "\n",
        "# Estimate the background\n",
        "mean, median, std = sigma_clipped_stats(data, sigma=3.0)\n",
        "\n",
        "# Use IRAFStarFinder to get sharpness, roundness, and FWHM estimates\n",
        "iraf = IRAFStarFinder(threshold=5*std, fwhm=10.0)  # initial guess for fwhm\n",
        "sources = iraf(data - median)\n",
        "\n",
        "# View FWHMs of detected sources\n",
        "fwhms = sources['fwhm']\n",
        "print(f\"Median FWHM: {np.median(fwhms):.2f} pixels\")"
      ],
      "metadata": {
        "id": "qqTCOV0dTPsq"
      },
      "execution_count": null,
      "outputs": []
    },
    {
      "cell_type": "code",
      "source": [
        "# === Step 4: Detect sources ===\n",
        "daofind = DAOStarFinder(fwhm=5.76, threshold=3.0 * std)\n",
        "sources = daofind(data - median)\n",
        "print(f\"✅ Found {len(sources)} sources\")"
      ],
      "metadata": {
        "id": "jHuoZSjXTl-0"
      },
      "execution_count": null,
      "outputs": []
    },
    {
      "cell_type": "code",
      "source": [
        "from photutils.aperture import CircularAperture\n",
        "# === Step 5: Plot with circular apertures ===\n",
        "positions = np.transpose((sources['xcentroid'], sources['ycentroid']))\n",
        "apertures = CircularAperture(positions, r=3.0)"
      ],
      "metadata": {
        "id": "PUol_P4PSEs0"
      },
      "execution_count": 49,
      "outputs": []
    },
    {
      "cell_type": "code",
      "source": [
        "plt.figure(figsize=(10, 8))\n",
        "plt.imshow(data, cmap='gray', origin='lower')\n",
        "apertures.plot(color='red', lw=1.0)\n",
        "plt.title(\"Detected Sources in RGB Image\")\n",
        "plt.axis('off')\n",
        "plt.show()"
      ],
      "metadata": {
        "id": "_TsxYu1YSN-F"
      },
      "execution_count": null,
      "outputs": []
    },
    {
      "cell_type": "code",
      "source": [
        "data.shape"
      ],
      "metadata": {
        "id": "CmpX8c-JWl1z"
      },
      "execution_count": null,
      "outputs": []
    },
    {
      "cell_type": "markdown",
      "source": [
        "At this point we get the number of sources in a given field of view of the sky. The FoV of the sky in this image is said to be around 2.4 arcmin, approximately equal to a grain of sand held at arm's length. So there are thousands of galaxies in this tiny region!"
      ],
      "metadata": {
        "id": "7eIS1vGsZAPd"
      }
    },
    {
      "cell_type": "code",
      "source": [
        "FoV = 2.4 #arcminutes\n",
        "Fov_deg = FoV/60\n",
        "print(f'The FoV of the image is {FoV} arcmin or {Fov_deg} degrees')"
      ],
      "metadata": {
        "id": "6Y4zEXb1Y81v"
      },
      "execution_count": null,
      "outputs": []
    },
    {
      "cell_type": "code",
      "source": [
        "#We want our data to be in number of galaxy/sterradian so that is why we need to convert the deg to str\n",
        "Fov_rad = Fov_deg*np.pi/180\n",
        "print(f'The FoV of the image is {Fov_rad} radians')"
      ],
      "metadata": {
        "id": "nFvshgykajdA"
      },
      "execution_count": null,
      "outputs": []
    },
    {
      "cell_type": "code",
      "source": [
        "#The area of the sky in str that this image cover is\n",
        "Area_str = Fov_rad**2\n",
        "print(f'The area of the sky that this image covers is {Area_str} steradian')"
      ],
      "metadata": {
        "id": "pcNQWCpJa5ft"
      },
      "execution_count": null,
      "outputs": []
    },
    {
      "cell_type": "code",
      "source": [
        "#Galaxy number density per steradian is\n",
        "print(f\"There are {len(sources)} in {Area_str} steradian of the sky\")\n",
        "print(f\"number density is: {len(sources)} / {Area_str} str\")\n",
        "density = len(sources)/Area_str\n",
        "print(f'or {density} gal/str')"
      ],
      "metadata": {
        "id": "1vb8lXkZbGh8"
      },
      "execution_count": null,
      "outputs": []
    },
    {
      "cell_type": "code",
      "source": [
        "#There are 4pi str for the entire sky, therefore the number of the galaxies in the observable universe is:\n",
        "print(f'The number of galaxies in the observable universe is {density*4*np.pi} gal')"
      ],
      "metadata": {
        "id": "sRvfIhVWb6U0"
      },
      "execution_count": null,
      "outputs": []
    },
    {
      "cell_type": "code",
      "source": [
        "density*4*np.pi*(10**(-12))"
      ],
      "metadata": {
        "id": "X3Cupv-dk9cv"
      },
      "execution_count": null,
      "outputs": []
    },
    {
      "cell_type": "markdown",
      "source": [
        "**Note**: This estimate is about 20 times lower than the commonly quoted value of 2 trillion galaxies. However, we should still be proud — we've reached this ballpark estimate using just a simple method and not advanced source detection algorithms."
      ],
      "metadata": {
        "id": "IWSLO0JqjzrF"
      }
    },
    {
      "cell_type": "markdown",
      "source": [
        "### **Try accessing the Fits file**"
      ],
      "metadata": {
        "id": "J_A5nH5KDCtQ"
      }
    },
    {
      "cell_type": "code",
      "source": [
        "from astropy.io import fits\n",
        "import requests\n",
        "from io import BytesIO\n",
        "\n",
        "url = \"https://raw.githubusercontent.com/Bunkhuoch-Ann/Astro_session/main/cropped_deepfield.fits\"\n",
        "\n",
        "# Load FITS file directly from GitHub\n",
        "response = requests.get(url)\n",
        "hdul = fits.open(BytesIO(response.content))\n",
        "\n",
        "# Access data and header\n",
        "data = hdul[0].data\n",
        "header = hdul[0].header\n",
        "\n",
        "# Show basic info\n",
        "print(\"Shape:\", data.shape)\n",
        "hdul.info()"
      ],
      "metadata": {
        "id": "D3D5s6cnDDXC"
      },
      "execution_count": null,
      "outputs": []
    },
    {
      "cell_type": "code",
      "source": [
        "# Replace NaNs and negatives with small positive value\n",
        "crop = np.nan_to_num(data, nan=0.0)\n",
        "crop[crop <= 0] = np.min(crop[crop > 0])  # smallest positive value\n",
        "log_crop = np.log10(crop)"
      ],
      "metadata": {
        "id": "owbE921qDP0f"
      },
      "execution_count": 67,
      "outputs": []
    },
    {
      "cell_type": "code",
      "source": [
        "vmin, vmax = np.percentile(log_crop, [5, 99])  # stretch between 5th and 99th percentile\n",
        "\n",
        "plt.figure(figsize=(10, 8))\n",
        "plt.imshow(log_crop, cmap='gray', origin='lower', vmin=vmin, vmax=vmax)\n",
        "plt.colorbar(label='log10(flux)')\n",
        "plt.title(\"Log10-Stretched Deep Field Crop\")\n",
        "plt.axis('off')\n",
        "plt.show()"
      ],
      "metadata": {
        "id": "VOUVJ0aiDT8K"
      },
      "execution_count": null,
      "outputs": []
    },
    {
      "cell_type": "code",
      "source": [
        "header"
      ],
      "metadata": {
        "id": "mQfGUfj-EpyV"
      },
      "execution_count": null,
      "outputs": []
    },
    {
      "cell_type": "code",
      "source": [
        "from photutils.detection import DAOStarFinder\n",
        "from astropy.stats import sigma_clipped_stats\n",
        "\n",
        "# === Step 2: Basic preprocessing ===\n",
        "data = np.nan_to_num(data, nan=0.0)\n",
        "# data[data < 0] = 0  # Optional: remove negatives\n",
        "\n",
        "# === Step 3: Estimate background statistics ===\n",
        "mean, median, std = sigma_clipped_stats(data, sigma=3.0)\n",
        "print(f\"Background mean = {mean:.3f}, std = {std:.3f}\")"
      ],
      "metadata": {
        "id": "dgA8J1hXEvss"
      },
      "execution_count": null,
      "outputs": []
    },
    {
      "cell_type": "code",
      "source": [
        "from photutils.detection import DAOStarFinder\n",
        "from astropy.stats import sigma_clipped_stats\n",
        "import numpy as np\n",
        "\n",
        "# Estimate background\n",
        "mean, median, std = sigma_clipped_stats(data, sigma=3.0)\n",
        "\n",
        "# Detect sources (with high threshold to find just bright stuff)\n",
        "daofind = DAOStarFinder(fwhm=3.0, threshold=10.0 * std)\n",
        "sources = daofind(data - median)\n",
        "\n",
        "# Find the brightest one\n",
        "brightest = sources[np.argmax(sources['peak'])]\n",
        "\n",
        "x0, y0 = brightest['xcentroid'], brightest['ycentroid']\n",
        "r = 30 # mask radius in pixels\n",
        "\n",
        "# Create circular mask\n",
        "yy, xx = np.indices(data.shape)\n",
        "mask = ((xx - x0)**2 + (yy - y0)**2) < r**2\n",
        "\n",
        "# Apply mask\n",
        "masked_data = data.copy()\n",
        "masked_data[mask] = np.nan\n"
      ],
      "metadata": {
        "id": "Up774t8GM-Bv"
      },
      "execution_count": 71,
      "outputs": []
    },
    {
      "cell_type": "code",
      "source": [
        "from photutils.detection import IRAFStarFinder\n",
        "from astropy.stats import sigma_clipped_stats\n",
        "\n",
        "# Estimate the background\n",
        "mean, median, std = sigma_clipped_stats(masked_data, sigma=3.0)\n",
        "\n",
        "# Use IRAFStarFinder to get sharpness, roundness, and FWHM estimates\n",
        "iraf = IRAFStarFinder(threshold=5*std, fwhm=10.0)  # initial guess for fwhm\n",
        "sources = iraf(masked_data - median)\n",
        "\n",
        "# View FWHMs of detected sources\n",
        "fwhms = sources['fwhm']\n",
        "print(f\"Median FWHM: {np.median(fwhms):.2f} pixels\")"
      ],
      "metadata": {
        "id": "xyhI_rz3Lz7_"
      },
      "execution_count": null,
      "outputs": []
    },
    {
      "cell_type": "code",
      "source": [
        "# === Step 4: Detect sources ===\n",
        "# threshold = median + 5*std is a good start for deep fields\n",
        "mean, median, std = sigma_clipped_stats(masked_data, sigma=3.0)\n",
        "sources = DAOStarFinder(fwhm=10, threshold=3.0 * std)(masked_data - median)\n",
        "\n",
        "print(f\"✅ Found {len(sources)} sources\")\n"
      ],
      "metadata": {
        "id": "YXtkHpdeKtfS"
      },
      "execution_count": null,
      "outputs": []
    },
    {
      "cell_type": "code",
      "source": [
        "from photutils.aperture import EllipticalAperture\n",
        "\n",
        "# === Step 5: Draw elliptical apertures instead of scatter dots ===\n",
        "\n",
        "# Coordinates of the detections\n",
        "positions = np.transpose((sources['xcentroid'], sources['ycentroid']))\n",
        "\n",
        "# Create elliptical apertures (a = b = 3 px, theta = 0)\n",
        "apertures = EllipticalAperture(positions, a=3, b=3, theta=0.0)\n",
        "\n",
        "# Plot\n",
        "plt.figure(figsize=(10, 8))\n",
        "plt.imshow(log_crop, cmap='gray', origin='lower', vmin=vmin, vmax=vmax)\n",
        "apertures.plot(color='lime', lw=1.0)\n",
        "plt.title(\"Detected Sources with Elliptical Apertures\")\n",
        "plt.xlabel(\"X Pixel\")\n",
        "plt.ylabel(\"Y Pixel\")\n",
        "plt.show()"
      ],
      "metadata": {
        "id": "WbeOaug4K2Lu"
      },
      "execution_count": null,
      "outputs": []
    },
    {
      "cell_type": "code",
      "source": [
        "# Area of the sky in str per pixel of this image\n",
        "Area = header['PIXAR_A2'] #arcsecond^2\n",
        "print(f'The area of the sky that this image covers is {Area} arcsecond^2')"
      ],
      "metadata": {
        "id": "tjY22H_TWios"
      },
      "execution_count": null,
      "outputs": []
    },
    {
      "cell_type": "code",
      "source": [
        "# How many degree in the sky covers by 1 pixel\n",
        "Pixel_scale = np.sqrt(Area)/3600 #degree\n",
        "print(f'The area of the sky that this image covers is {Pixel_scale} degree')"
      ],
      "metadata": {
        "id": "hahi8tjTmuqc"
      },
      "execution_count": null,
      "outputs": []
    },
    {
      "cell_type": "markdown",
      "source": [
        "**Assignment** fill in the blank. You can ask us for help!"
      ],
      "metadata": {
        "id": "gZBpe5pDox8s"
      }
    },
    {
      "cell_type": "code",
      "source": [
        "# Convert the pixel scale from degree in to rad\n",
        "Pixel_scale_rad =\n",
        "print(f'The area of the sky that this image covers is {Pixel_scale_rad} radians')"
      ],
      "metadata": {
        "id": "A5ilHsgTmm88"
      },
      "execution_count": null,
      "outputs": []
    },
    {
      "cell_type": "code",
      "source": [
        "# Shape of this image\n",
        "shape = masked_data.shape\n",
        "print(f'The shape of the image is {shape}')"
      ],
      "metadata": {
        "id": "p3JC97WmmTVA"
      },
      "execution_count": null,
      "outputs": []
    },
    {
      "cell_type": "code",
      "source": [
        "#Number of pixel in this image\n",
        "N_pixel =\n",
        "print(f'The number of pixel in this image is {N_pixel}')"
      ],
      "metadata": {
        "id": "D30k0UEmmfr0"
      },
      "execution_count": null,
      "outputs": []
    },
    {
      "cell_type": "code",
      "source": [
        "#Area of the sky cover by one pixel\n",
        "Area_pixel =\n",
        "print(f'The area of the sky that this image covers is {Area_pixel} steradian')"
      ],
      "metadata": {
        "id": "_FOh737hoKJO"
      },
      "execution_count": null,
      "outputs": []
    },
    {
      "cell_type": "code",
      "source": [
        "#Area of the sky cover by this image\n",
        "Area_image =\n",
        "print(f'The area of the sky that this image covers is {Area_image} steradian')"
      ],
      "metadata": {
        "id": "pCPBGlZkoW88"
      },
      "execution_count": null,
      "outputs": []
    },
    {
      "cell_type": "code",
      "source": [
        "#Now calculate the number of galaxy per steradian\n",
        "#Galaxy number density per steradian is\n",
        "print(f\"There are {len(sources)} in {Area_image} steradian of the sky\")\n",
        "print(f\"number density is: {len(sources)} / {Area_image} str\")\n",
        "density =\n",
        "print(f'or {density} gal/str')"
      ],
      "metadata": {
        "id": "7TPtzfxTonFe"
      },
      "execution_count": null,
      "outputs": []
    },
    {
      "cell_type": "code",
      "source": [
        "# Now calculate the number of galaxy in the observable universe\n",
        "#There are 4pi str for the entire sky, therefore the number of the galaxies in the observable universe is:\n",
        "print(f'The number of galaxies in the observable universe is {} gal')"
      ],
      "metadata": {
        "id": "6BHgot25pO5u"
      },
      "execution_count": null,
      "outputs": []
    },
    {
      "cell_type": "markdown",
      "source": [
        "Does the result agree with the previous image?"
      ],
      "metadata": {
        "id": "I1fG6imtpiu6"
      }
    }
  ]
}