{
  "nbformat": 4,
  "nbformat_minor": 0,
  "metadata": {
    "colab": {
      "provenance": [],
      "authorship_tag": "ABX9TyNfSur9Ku5YFSdgVwfFfu+U",
      "include_colab_link": true
    },
    "kernelspec": {
      "name": "python3",
      "display_name": "Python 3"
    },
    "language_info": {
      "name": "python"
    }
  },
  "cells": [
    {
      "cell_type": "markdown",
      "metadata": {
        "id": "view-in-github",
        "colab_type": "text"
      },
      "source": [
        "<a href=\"https://colab.research.google.com/github/Bunkhuoch-Ann/Astro_session/blob/main/Coding_Session1.ipynb\" target=\"_parent\"><img src=\"https://colab.research.google.com/assets/colab-badge.svg\" alt=\"Open In Colab\"/></a>"
      ]
    },
    {
      "cell_type": "markdown",
      "source": [
        "# **Reading the RGB Image**"
      ],
      "metadata": {
        "id": "3Zc4mHGbpPhV"
      }
    },
    {
      "cell_type": "code",
      "execution_count": null,
      "metadata": {
        "id": "npIB7aHtb2hR"
      },
      "outputs": [],
      "source": [
        "#Import the library\n",
        "import matplotlib.pyplot as plt\n",
        "import numpy as np\n",
        "import requests\n",
        "from PIL import Image\n",
        "from io import BytesIO"
      ]
    },
    {
      "cell_type": "code",
      "source": [
        "# Load image from GitHub URL\n",
        "url = url = \"https://raw.githubusercontent.com/Bunkhuoch-Ann/Astro_session/main/FB_IMG_1750123703591.jpg\"\n",
        "\n",
        "response = requests.get(url)\n",
        "img = Image.open(BytesIO(response.content)).convert(\"RGB\")\n",
        "\n",
        "# Convert to array\n",
        "image = np.array(img)"
      ],
      "metadata": {
        "id": "vRJD6R-UjHRT"
      },
      "execution_count": null,
      "outputs": []
    },
    {
      "cell_type": "code",
      "source": [
        "# # In case you want to load your own images you can try this code\n",
        "# # Example usage\n",
        "# image_path = 'Path_to_you_image'  # Use .png, .jpg, etc.\n",
        "# arr = Image.open(image_path).convert(\"RGB\")\n",
        "# image = np.array(arr)"
      ],
      "metadata": {
        "id": "0s9CviHOpc68"
      },
      "execution_count": null,
      "outputs": []
    },
    {
      "cell_type": "code",
      "source": [
        "# Display\n",
        "plt.imshow(image)\n",
        "plt.axis('off')\n",
        "plt.show()"
      ],
      "metadata": {
        "id": "rdjMwyyJlMbs"
      },
      "execution_count": null,
      "outputs": []
    },
    {
      "cell_type": "code",
      "source": [
        "image"
      ],
      "metadata": {
        "id": "pXrL1fajlbfv"
      },
      "execution_count": null,
      "outputs": []
    },
    {
      "cell_type": "code",
      "source": [
        "image.shape"
      ],
      "metadata": {
        "id": "HkWcEWwmjWKz"
      },
      "execution_count": null,
      "outputs": []
    },
    {
      "cell_type": "markdown",
      "source": [
        "**Viewing image in each of the filter**"
      ],
      "metadata": {
        "id": "m8mU3yX1mOWB"
      }
    },
    {
      "cell_type": "code",
      "source": [
        "#Red filter\n",
        "image_R = image[:,:,0]\n",
        "image_R"
      ],
      "metadata": {
        "id": "qIhPv74BljJA"
      },
      "execution_count": null,
      "outputs": []
    },
    {
      "cell_type": "code",
      "source": [
        "# Display in Red\n",
        "plt.imshow(image_R, cmap=\"Reds_r\")\n",
        "#You can try other cmap as you need such as: hot, viridis, plasma, inferno,\n",
        "#magma, cividis, jet, Reds, Greens, Blues\n",
        "plt.colorbar()\n",
        "plt.axis('off')\n",
        "plt.show()"
      ],
      "metadata": {
        "id": "4HvfiROslrfG"
      },
      "execution_count": null,
      "outputs": []
    },
    {
      "cell_type": "code",
      "source": [
        "#Green filter\n",
        "image_G = image[:,:,1]\n",
        "image_G"
      ],
      "metadata": {
        "id": "2_EXwjqSl119"
      },
      "execution_count": null,
      "outputs": []
    },
    {
      "cell_type": "code",
      "source": [
        "# Display in Green\n",
        "plt.imshow(image_G, cmap=\"Greens_r\")\n",
        "#You can try other cmap as you need such as: hot, viridis, plasma, inferno,\n",
        "#magma, cividis, jet, Reds, Greens, Blues\n",
        "plt.colorbar()\n",
        "plt.axis('off')\n",
        "plt.show()"
      ],
      "metadata": {
        "id": "o91LDpAxl7bY"
      },
      "execution_count": null,
      "outputs": []
    },
    {
      "cell_type": "code",
      "source": [
        "#Blue filter\n",
        "image_B = image[:,:,-1]\n",
        "image_B"
      ],
      "metadata": {
        "id": "SrBd-WJHnltx"
      },
      "execution_count": null,
      "outputs": []
    },
    {
      "cell_type": "code",
      "source": [
        "# Display in Green\n",
        "plt.imshow(image_B, cmap=\"Blues_r\")\n",
        "#You can try other cmap as you need such as: hot, viridis, plasma, inferno,\n",
        "#magma, cividis, jet, Reds, Greens, Blues\n",
        "plt.colorbar()\n",
        "plt.axis('off')\n",
        "plt.show()"
      ],
      "metadata": {
        "id": "jrlsT4UenxTk"
      },
      "execution_count": null,
      "outputs": []
    },
    {
      "cell_type": "markdown",
      "source": [
        "As you can see, even under severe color editing, we can still see the milkyway better in the Redder filter. Why? - Find your own answer."
      ],
      "metadata": {
        "id": "kpTpG2pRoG7N"
      }
    },
    {
      "cell_type": "markdown",
      "source": [
        "**Assignment**\n",
        "Play with the cmap options, and also upload and read your own images."
      ],
      "metadata": {
        "id": "kPBso57-sbQY"
      }
    },
    {
      "cell_type": "markdown",
      "source": [
        "## **Image slicing**"
      ],
      "metadata": {
        "id": "J1HtOXk5s1rP"
      }
    },
    {
      "cell_type": "code",
      "source": [
        "# Display the image\n",
        "plt.imshow(image)\n",
        "plt.axis('on')\n",
        "plt.show()"
      ],
      "metadata": {
        "id": "6WbML8KUn2fZ"
      },
      "execution_count": null,
      "outputs": []
    },
    {
      "cell_type": "code",
      "source": [
        "# Slicing to obtain the Angkor Wat part of the image\n",
        "# By eyes Angkor Wat appears to be at around 800 to 1100 pixel in y-axis\n",
        "image_slicingy = image[800:1100, :]  #Try slicing some other regions yourself"
      ],
      "metadata": {
        "id": "cAX6YGCytEnf"
      },
      "execution_count": null,
      "outputs": []
    },
    {
      "cell_type": "code",
      "source": [
        "# Display the image\n",
        "plt.imshow(image_slicingy)\n",
        "plt.axis('on')\n",
        "plt.show()"
      ],
      "metadata": {
        "id": "re_td2xktpa_"
      },
      "execution_count": null,
      "outputs": []
    },
    {
      "cell_type": "code",
      "source": [
        "# What is the shape of the sliced image write your code here\n"
      ],
      "metadata": {
        "id": "63yXJr6RwC90"
      },
      "execution_count": null,
      "outputs": []
    },
    {
      "cell_type": "code",
      "source": [
        "# The 5 peak towers of Angkor Wat is around 850 to 1200 pixels in the x axis\n",
        "image_slicingx = image[:, 850:1200]"
      ],
      "metadata": {
        "id": "AGlqGsy0ttkg"
      },
      "execution_count": null,
      "outputs": []
    },
    {
      "cell_type": "code",
      "source": [
        "# Display the image\n",
        "plt.imshow(image_slicingx)\n",
        "plt.axis('on')\n",
        "plt.show()"
      ],
      "metadata": {
        "id": "DVt-gIc3uYY3"
      },
      "execution_count": null,
      "outputs": []
    },
    {
      "cell_type": "code",
      "source": [
        "# What is the shape of the sliced image write your code here\n"
      ],
      "metadata": {
        "id": "2NF3dQFJwUEc"
      },
      "execution_count": null,
      "outputs": []
    },
    {
      "cell_type": "markdown",
      "source": [
        "**Assignmet**\n",
        "Please try to slice in both x and y directions simultaneously"
      ],
      "metadata": {
        "id": "uR0n3GwsuzsZ"
      }
    },
    {
      "cell_type": "code",
      "source": [
        "# Input your code and plot it here\n"
      ],
      "metadata": {
        "id": "G8XB_4eMuaGk"
      },
      "execution_count": null,
      "outputs": []
    },
    {
      "cell_type": "markdown",
      "source": [
        "## **Detecting differences in the images**"
      ],
      "metadata": {
        "id": "Sp29JxG_vvLF"
      }
    },
    {
      "cell_type": "code",
      "source": [
        "url = url = \"https://raw.githubusercontent.com/Bunkhuoch-Ann/Astro_session/main/FB_IMG_1750128303001.jpg\"\n",
        "# Try with some orthe images: FB_IMG_1750128303001.jpg, FB_IMG_1750128352141.jpg,FB_IMG_1750128295471.jpg\n",
        "\n",
        "response = requests.get(url)\n",
        "img = Image.open(BytesIO(response.content)).convert(\"RGB\")\n",
        "\n",
        "# Convert to array\n",
        "image = np.array(img)"
      ],
      "metadata": {
        "id": "WnEw7mRhwf0q"
      },
      "execution_count": null,
      "outputs": []
    },
    {
      "cell_type": "code",
      "source": [
        "# # In case you want to load your own images you can try this code\n",
        "# # Example usage\n",
        "# image_path = 'Path_to_you_image'  # Use .png, .jpg, etc.\n",
        "# arr = Image.open(image_path).convert(\"RGB\")\n",
        "# image = np.array(arr)"
      ],
      "metadata": {
        "id": "VWL09fwm7qcr"
      },
      "execution_count": null,
      "outputs": []
    },
    {
      "cell_type": "code",
      "source": [
        "# Display\n",
        "plt.imshow(image)\n",
        "plt.axis('on')\n",
        "plt.tight_layout()\n",
        "plt.show()"
      ],
      "metadata": {
        "id": "vW7ogWhyzSUz"
      },
      "execution_count": null,
      "outputs": []
    },
    {
      "cell_type": "code",
      "source": [
        "shape = image.shape\n",
        "shape"
      ],
      "metadata": {
        "id": "uUrEw4umzVTD"
      },
      "execution_count": null,
      "outputs": []
    },
    {
      "cell_type": "code",
      "source": [
        "# slicing the image in half on the y axis and make them two separate images\n",
        "boundary = int(shape[0]/2)\n",
        "image_1 = image[:boundary, :]\n",
        "image_2 = image[boundary:, :]"
      ],
      "metadata": {
        "id": "1A2VOk5qzocS"
      },
      "execution_count": null,
      "outputs": []
    },
    {
      "cell_type": "code",
      "source": [
        "#In case you have two separate images can call two of them separately:\n",
        "# # In case you want to load your own images you can try this code\n",
        "# # Example usage\n",
        "# image_path1 = 'Path_to_you_image'  # Use .png, .jpg, etc.\n",
        "# arr1 = Image.open(image_path1).convert(\"RGB\")\n",
        "# image1 = np.array(arr1)\n",
        "\n",
        "# image_path2 = 'Path_to_you_image'  # Use .png, .jpg, etc.\n",
        "# arr2 = Image.open(image_path2).convert(\"RGB\")\n",
        "# image2 = np.array(arr2)\n",
        "\n",
        "#Then this code normally. I hope it will works but, fingers crossed."
      ],
      "metadata": {
        "id": "akCWHc0W6YgO"
      },
      "execution_count": null,
      "outputs": []
    },
    {
      "cell_type": "code",
      "source": [
        "plt.imshow(image_1)\n",
        "plt.axis('on')\n",
        "plt.tight_layout()\n",
        "plt.show()"
      ],
      "metadata": {
        "id": "CfTmWwHMz99I"
      },
      "execution_count": null,
      "outputs": []
    },
    {
      "cell_type": "code",
      "source": [
        "plt.imshow(image_2)\n",
        "plt.axis('on')\n",
        "plt.tight_layout()\n",
        "plt.show()"
      ],
      "metadata": {
        "id": "dpCI32wz0XpJ"
      },
      "execution_count": null,
      "outputs": []
    },
    {
      "cell_type": "code",
      "source": [
        "plt.imshow(image_1-image_2)\n",
        "plt.axis('on')\n",
        "plt.tight_layout()\n",
        "plt.show()"
      ],
      "metadata": {
        "id": "ks2kQCrL0bF-"
      },
      "execution_count": null,
      "outputs": []
    },
    {
      "cell_type": "code",
      "source": [
        "#Misallignment may mess up your subtraction\n",
        "\n",
        "from skimage.registration import phase_cross_correlation\n",
        "from scipy.ndimage import shift\n",
        "\n",
        "# Compute the pixel shift needed\n",
        "shift_estimate, _, _ = phase_cross_correlation(image_1, image_2, upsample_factor=10)\n",
        "\n",
        "# Align img2 by shifting it\n",
        "img2_aligned = shift(image_2, shift=shift_estimate)\n",
        "\n",
        "# Now subtract\n",
        "diff = np.abs(image_1.astype(np.int16) - img2_aligned.astype(np.int16))\n"
      ],
      "metadata": {
        "id": "JRErDM4S0eVv"
      },
      "execution_count": null,
      "outputs": []
    },
    {
      "cell_type": "code",
      "source": [
        "plt.imshow(diff)\n",
        "plt.axis('on')\n",
        "plt.tight_layout()\n",
        "plt.show()"
      ],
      "metadata": {
        "id": "QiGatskR2ZMy"
      },
      "execution_count": null,
      "outputs": []
    },
    {
      "cell_type": "code",
      "source": [
        "# Threshold to identify significant differences (tune 30 as needed)\n",
        "threshold = 30\n",
        "mask = np.any(diff > threshold, axis=-1)  # shape: (H, W)\n",
        "\n",
        "# Create a copy of original image\n",
        "highlighted = image_1.copy()\n",
        "\n",
        "# Overlay red on difference region\n",
        "highlighted[mask] = [255, 0, 0]  # Red highlight"
      ],
      "metadata": {
        "id": "AxHZKkRn2ovB"
      },
      "execution_count": null,
      "outputs": []
    },
    {
      "cell_type": "code",
      "source": [
        "# Plot\n",
        "plt.imshow(highlighted)\n",
        "plt.axis('off')\n",
        "plt.title('Differences Highlighted in Red')\n",
        "plt.tight_layout()\n",
        "plt.show()\n"
      ],
      "metadata": {
        "id": "JCQLAKch4t5L"
      },
      "execution_count": null,
      "outputs": []
    },
    {
      "cell_type": "code",
      "source": [
        "import matplotlib.pyplot as plt\n",
        "\n",
        "# Assuming image_1 and image_2 are numpy arrays (e.g., loaded with PIL and converted)\n",
        "\n",
        "fig, axs = plt.subplots(1, 2, figsize=(10, 5))  # 1 row, 2 columns\n",
        "\n",
        "axs[0].imshow(image_1)\n",
        "axs[0].set_title('Image 1')\n",
        "axs[0].axis('off')\n",
        "\n",
        "axs[1].imshow(image_2)\n",
        "axs[1].set_title('Image 2')\n",
        "axs[1].axis('off')\n",
        "\n",
        "plt.tight_layout()\n",
        "plt.show()\n"
      ],
      "metadata": {
        "id": "tgTkGtYE4vWv"
      },
      "execution_count": null,
      "outputs": []
    },
    {
      "cell_type": "markdown",
      "source": [
        "**Assignment**\n",
        "Work with the other two images or try the code that takes care for the downloaded version."
      ],
      "metadata": {
        "id": "wTZzy5SF7Kj2"
      }
    },
    {
      "cell_type": "markdown",
      "source": [
        "**Detection of Supernova by image subtraction**"
      ],
      "metadata": {
        "id": "oDQf7iU3bXfR"
      }
    },
    {
      "cell_type": "code",
      "source": [
        "from astropy.io import fits\n",
        "import numpy as np\n",
        "from skimage.exposure import match_histograms\n",
        "from skimage.registration import phase_cross_correlation\n",
        "from scipy.ndimage import shift\n",
        "import matplotlib.pyplot as plt\n",
        "import requests\n",
        "from astropy.io import fits\n",
        "from io import BytesIO"
      ],
      "metadata": {
        "id": "aXkikYaW43vo"
      },
      "execution_count": null,
      "outputs": []
    },
    {
      "cell_type": "code",
      "source": [
        "# # Load the two supernova image fields from different day\n",
        "# def load_fits(fname):\n",
        "#     return fits.open(fname)[0].data.astype(float)\n",
        "\n",
        "# img1 = load_fits('ztf_20210227344850_000787_zi_c06_o_q3_sciimg_ra159.6970_dec53.5084_asec600.fits')\n",
        "# img2 = load_fits('ztf_20210515257616_000787_zi_c06_o_q3_sciimg_ra159.6970_dec53.5084_asec600.fits')"
      ],
      "metadata": {
        "id": "UfTScCifNLki"
      },
      "execution_count": null,
      "outputs": []
    },
    {
      "cell_type": "code",
      "source": [
        "!wget -O img1.fits \"https://raw.githubusercontent.com/Bunkhuoch-Ann/Astro_session/main/ztf_20210227344850_000787_zi_c06_o_q3_sciimg_ra159.6970_dec53.5084_asec600.fits\"\n",
        "!wget -O img2.fits \"https://raw.githubusercontent.com/Bunkhuoch-Ann/Astro_session/main/ztf_20210515257616_000787_zi_c06_o_q3_sciimg_ra159.6970_dec53.5084_asec600.fits\"\n",
        "\n",
        "from astropy.io import fits\n",
        "img1 = fits.getdata('img1.fits').astype(float)\n",
        "img2 = fits.getdata('img2.fits').astype(float)"
      ],
      "metadata": {
        "id": "h5Ztu8-LNMI3"
      },
      "execution_count": null,
      "outputs": []
    },
    {
      "cell_type": "code",
      "source": [
        "plt.figure(figsize=(13,3))\n",
        "plt.subplot(1,3,1)\n",
        "plt.imshow(img1, origin='lower', cmap='gray')\n",
        "plt.colorbar()\n",
        "#np.log10() for logscale observation\n",
        "plt.title('Image 1 (Before, log scale)')\n",
        "\n",
        "plt.subplot(1,3,2)\n",
        "plt.imshow(img2, origin='lower', cmap='gray')\n",
        "plt.colorbar()\n",
        "#np.log10() for logscale observation\n",
        "plt.title('Image 2 (After, aligned, log scale)')"
      ],
      "metadata": {
        "id": "eRIzysgKNWSa"
      },
      "execution_count": null,
      "outputs": []
    },
    {
      "cell_type": "code",
      "source": [
        "# reshaping and slicing them to the region of interest\n",
        "# crop both images to the smallest shape\n",
        "shape = np.minimum(img1.shape, img2.shape)\n",
        "img1_crop = img1[:shape[0], :shape[1]]\n",
        "img2_crop = img2[:shape[0], :shape[1]]\n",
        "\n",
        "img1_crop1 = img1_crop[200:400, 200:400]\n",
        "img2_crop1 = img2_crop[200:400, 200:400]"
      ],
      "metadata": {
        "id": "WArfD_kfN-63"
      },
      "execution_count": null,
      "outputs": []
    },
    {
      "cell_type": "code",
      "source": [
        "#Align them, perform pixel value calibration and then subtract them\n",
        "from skimage.exposure import match_histograms\n",
        "# --- Step 1: Register (align) img2 to img1 using phase cross-correlation ---\n",
        "from skimage.registration import phase_cross_correlation\n",
        "shift_est, error, _ = phase_cross_correlation(img1_crop1, img2_crop1, upsample_factor=100)\n",
        "print(f\"Estimated shift: {shift_est}\")\n",
        "\n",
        "# Apply the shift to align img2\n",
        "img2_aligned = shift(img2_crop1, shift=shift_est, order=3)  # spline interpolation\n",
        "\n",
        "# --- Step 2: Histogram match after alignment ---\n",
        "img2_matched = match_histograms(img2_aligned, img1_crop1)\n",
        "\n",
        "# --- Step 3: Subtract ---\n",
        "diff = img1_crop1 - img2_matched"
      ],
      "metadata": {
        "id": "3Ni4-ERJjxCP"
      },
      "execution_count": null,
      "outputs": []
    },
    {
      "cell_type": "code",
      "source": [
        "plt.figure(figsize=(12,4))\n",
        "plt.subplot(1,3,1)\n",
        "plt.imshow(np.log10(img1_crop1), origin='lower', cmap='gray')\n",
        "plt.title('Image 1 (Before, log scale)')\n",
        "\n",
        "plt.subplot(1,3,2)\n",
        "plt.imshow(np.log10(img2_crop1), origin='lower', cmap='gray')\n",
        "plt.title('Image 2 (After, aligned, log scale)')\n",
        "\n",
        "plt.subplot(1,3,3)\n",
        "vmax = np.max(np.abs(diff))\n",
        "plt.imshow(diff, origin='lower', cmap='seismic', vmin=-vmax, vmax=vmax)\n",
        "plt.title('Difference (linear scale)')\n",
        "# plt.colorbar()\n",
        "\n",
        "plt.tight_layout()\n",
        "plt.show()"
      ],
      "metadata": {
        "id": "Aazn3d2qj-5y"
      },
      "execution_count": null,
      "outputs": []
    },
    {
      "cell_type": "code",
      "source": [],
      "metadata": {
        "id": "ieSlMVXkkBeP"
      },
      "execution_count": null,
      "outputs": []
    }
  ]
}